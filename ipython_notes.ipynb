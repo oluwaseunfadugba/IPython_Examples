{
 "cells": [
  {
   "cell_type": "markdown",
   "metadata": {},
   "source": [
    "# Wrong Habits by NumPy Beginners\n",
    "## Summarized by Yu Geng<br>Last modified: 2017-10-08"
   ]
  },
  {
   "cell_type": "markdown",
   "metadata": {},
   "source": [
    "These notes focus on the Numpy library only.<br>\n",
    "You will not see:\n",
    "* Any resemblance trying to show the similarities or common points of MATLAB and Python\n",
    "* Any tips for converting MATLAB codes into Python codes"
   ]
  },
  {
   "cell_type": "markdown",
   "metadata": {},
   "source": [
    "### The abs() function\n",
    "#### Monday, October 9, 2017\n",
    "Passing abs() an element of an np.array will give an np.array<br>Conversion to 'float' type is suggested to avoid further troubles."
   ]
  },
  {
   "cell_type": "code",
   "execution_count": null,
   "metadata": {
    "collapsed": true
   },
   "outputs": [],
   "source": [
    "import numpy as np   # you can call np.abs() and abs() separately\n",
    "from pylab import *  # the abs() from numpy will cover the abs() in Python\n",
    "\n",
    "# Examples.\n",
    "import numpy as np\n",
    "dummy = np.zeros([9,1])\n",
    "np.abs(dummy[0])    # returns array([ 0.])\n",
    "abs(dummy[0])  # also returns array([ 0.])"
   ]
  },
  {
   "cell_type": "markdown",
   "metadata": {},
   "source": [
    "### Transpose\n",
    "#### Sunday, October 8, 2017\n",
    "* Row vector must be bracketed or converted into 'np.matrix' before doing transpose operation.\n",
    "* A column vector extracted from a matrix is capable of transpose operation without any type conversion."
   ]
  },
  {
   "cell_type": "code",
   "execution_count": null,
   "metadata": {
    "collapsed": true
   },
   "outputs": [],
   "source": [
    "# Transposing row vectors.\n",
    "transpose(repeat(1.0,3))  # wrong\n",
    "transpose([repeat(1.0,3)])        # right, gives an np.array\n",
    "transpose(matrix(repeat(1.0,3)))  # right, gives an np.matrix\n",
    "\n",
    "A = array([1,2])\n",
    "transpose(A)    # wrong\n",
    "transpose([A])  # right\n",
    "\n",
    "# Transposing matrices.\n",
    "Q = matrix(zeros([2,2]))\n",
    "transpose(Q[:,0])  # right\n",
    "\n",
    "Q = zeros([2,2])\n",
    "transpose(Q[:,0])  # also right\n",
    "\n",
    "# Transposing column vectors.\n",
    "r = b - A * x  # column vector\n",
    "p = r          # column vector\n",
    "rsold = float(transpose(r) * matrix(r))  # right, because r is already a column vector"
   ]
  },
  {
   "cell_type": "markdown",
   "metadata": {},
   "source": [
    "### Data type\n",
    "#### Sunday, October 8, 2017\n",
    "* If a matrix operation yields a scalar, it must be converted into 'float' type before assigning to a float number.\n",
    "* However, if the value is assigned to an element of an 'np.matrix', it does not have to be converted."
   ]
  },
  {
   "cell_type": "code",
   "execution_count": null,
   "metadata": {
    "collapsed": true
   },
   "outputs": [],
   "source": [
    "# Assigning to floats.\n",
    "rsold = float(transpose(r) * matrix(r))      # right\n",
    "alpha = rsold / (transpose(p) * matrix(Ap))  # <type 'np.matrix'>, not <type 'float'>\n",
    "    # valid, but will bring trouble to subsequent calculations\n",
    "\n",
    "# Assigning to matrix.\n",
    "H[j,k] = float(transpose(Q[:,j]) * v)  # right\n",
    "H[j,k] = transpose(Q[:,j]) * v         # right"
   ]
  },
  {
   "cell_type": "markdown",
   "metadata": {},
   "source": [
    "### Vector division and multiplications\n",
    "#### Sunday, October 8, 2017\n",
    "At least one matrix should be involved in an assignment involving arithmetic operations."
   ]
  },
  {
   "cell_type": "code",
   "execution_count": null,
   "metadata": {
    "collapsed": true
   },
   "outputs": [],
   "source": [
    "# Examples.\n",
    "r_k = array([[1],[2]])\n",
    "numerator = transpose(r_k) * matrix(r_k)  # right\n",
    "numerator = transpose(r_k) * r_k  # wrong, numpy will not perform vector products\n",
    "                                  # with 'np.array' type unless using the dot() function"
   ]
  },
  {
   "cell_type": "markdown",
   "metadata": {},
   "source": [
    "### Python-like assignment\n",
    "#### Sunday, October 8, 2017\n",
    "'np.array' type is not capable of -=, +=, /=, *= operators, but they work for column vectors extracted from an 'np.matrix'."
   ]
  },
  {
   "cell_type": "code",
   "execution_count": null,
   "metadata": {
    "collapsed": true
   },
   "outputs": [],
   "source": [
    "# Perform on 'np.array' type.\n",
    "x_k = x_k + alpha * r_k    # right\n",
    "x_k = x_k + alpha * p_new  # right\n",
    "\n",
    "x_k += alpha * r_k    # wrong\n",
    "x_k += alpha * p_old  # wrong\n",
    "\n",
    "# Perform on 'np.matrix' type.\n",
    "Q = matrix(zeros([2,2]))\n",
    "Q[:,0] /= 2.0  # right, Q is a matrix\n",
    "\n",
    "Q = zeros([2,2])\n",
    "Q[:,0] += 1.0  # also right"
   ]
  },
  {
   "cell_type": "code",
   "execution_count": null,
   "metadata": {
    "collapsed": true
   },
   "outputs": [],
   "source": []
  }
 ],
 "metadata": {
  "kernelspec": {
   "display_name": "Python 2",
   "language": "python",
   "name": "python2"
  },
  "language_info": {
   "codemirror_mode": {
    "name": "ipython",
    "version": 2
   },
   "file_extension": ".py",
   "mimetype": "text/x-python",
   "name": "python",
   "nbconvert_exporter": "python",
   "pygments_lexer": "ipython2",
   "version": "2.7.13"
  }
 },
 "nbformat": 4,
 "nbformat_minor": 2
}
