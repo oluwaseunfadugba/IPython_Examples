{
 "cells": [
  {
   "cell_type": "code",
   "execution_count": 1,
   "metadata": {
    "collapsed": true
   },
   "outputs": [],
   "source": [
    "%run ./gmres.ipynb"
   ]
  },
  {
   "cell_type": "markdown",
   "metadata": {},
   "source": [
    "### Test examples"
   ]
  },
  {
   "cell_type": "code",
   "execution_count": 2,
   "metadata": {
    "collapsed": false
   },
   "outputs": [
    {
     "name": "stdout",
     "output_type": "stream",
     "text": [
      "[[ 0.40824829]\n",
      " [-0.18257419]\n",
      " [ 0.89442719]]\n",
      "[[ 1.]\n",
      " [ 1.]\n",
      " [ 1.]]\n"
     ]
    }
   ],
   "source": [
    "A_1 = matrix([[3,0,4],[7,4,2],[1,1,2]])\n",
    "A_3 = matrix([[4,1,1],[2,-9,0],[0,-8,-6]])\n",
    "\n",
    "unit_v = transpose([repeat(1.0,3)])\n",
    "b_1 = A_1 * unit_v\n",
    "b_3 = A_3 * unit_v\n",
    "\n",
    "# init = random([3,1])\n",
    "init = array([[1.0],[1.0],[2.0]])\n",
    "x, e = gmres(A_1, b_1, init)\n",
    "# print 'x =', x\n",
    "# print 'e =', e\n",
    "# x, e = gmres(A_3, b_3, init)\n",
    "# print 'x =', x\n",
    "# print 'e =', e"
   ]
  },
  {
   "cell_type": "code",
   "execution_count": null,
   "metadata": {
    "collapsed": true
   },
   "outputs": [],
   "source": []
  }
 ],
 "metadata": {
  "kernelspec": {
   "display_name": "Python 2",
   "language": "python",
   "name": "python2"
  },
  "language_info": {
   "codemirror_mode": {
    "name": "ipython",
    "version": 2
   },
   "file_extension": ".py",
   "mimetype": "text/x-python",
   "name": "python",
   "nbconvert_exporter": "python",
   "pygments_lexer": "ipython2",
   "version": "2.7.13"
  }
 },
 "nbformat": 4,
 "nbformat_minor": 2
}
